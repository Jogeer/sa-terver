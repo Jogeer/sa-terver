{
  "nbformat": 4,
  "nbformat_minor": 0,
  "metadata": {
    "colab": {
      "name": "Untitled0.ipynb",
      "provenance": [],
      "collapsed_sections": [],
      "authorship_tag": "ABX9TyMj4ZmjNZTh/M4fTxLGXNbK",
      "include_colab_link": true
    },
    "kernelspec": {
      "name": "python3",
      "display_name": "Python 3"
    },
    "language_info": {
      "name": "python"
    }
  },
  "cells": [
    {
      "cell_type": "markdown",
      "metadata": {
        "id": "view-in-github",
        "colab_type": "text"
      },
      "source": [
        "<a href=\"https://colab.research.google.com/github/Jogeer/sa-terver/blob/main/temp.ipynb\" target=\"_parent\"><img src=\"https://colab.research.google.com/assets/colab-badge.svg\" alt=\"Open In Colab\"/></a>"
      ]
    },
    {
      "cell_type": "markdown",
      "source": [
        ""
      ],
      "metadata": {
        "id": "PGnub-U5uHBM"
      }
    },
    {
      "cell_type": "code",
      "source": [
        "import numpy as np\n",
        "import pandas as pd\n",
        "import matplotlib.pyplot as plt"
      ],
      "metadata": {
        "id": "cmA0X8OcvL2Z"
      },
      "execution_count": null,
      "outputs": []
    },
    {
      "cell_type": "markdown",
      "source": [
        "## Переменные"
      ],
      "metadata": {
        "id": "LWqUiW5L29a6"
      }
    },
    {
      "cell_type": "code",
      "source": [
        "SAMPLE_SIZE = 80"
      ],
      "metadata": {
        "id": "VBN6Te3VxqK2"
      },
      "execution_count": null,
      "outputs": []
    },
    {
      "cell_type": "markdown",
      "source": [
        "## Выборка"
      ],
      "metadata": {
        "id": "F_SAwpUn3Dfg"
      }
    },
    {
      "cell_type": "code",
      "execution_count": null,
      "metadata": {
        "id": "sLhrOdvJuBsC"
      },
      "outputs": [],
      "source": [
        "sample = np.random.uniform(-3, 7, SAMPLE_SIZE)\n",
        "noise = np.random.normal(0, 0.3, SAMPLE_SIZE)"
      ]
    },
    {
      "cell_type": "markdown",
      "source": [
        "## Функция подсчёта"
      ],
      "metadata": {
        "id": "KiVOCF9O4RSg"
      }
    },
    {
      "cell_type": "code",
      "source": [
        "def"
      ],
      "metadata": {
        "id": "xREdcvCJ4QXJ"
      },
      "execution_count": null,
      "outputs": []
    },
    {
      "cell_type": "markdown",
      "source": [
        "## Функция и графики"
      ],
      "metadata": {
        "id": "bDGYXruU3Glz"
      }
    },
    {
      "cell_type": "code",
      "source": [
        "x = sample\n",
        "y = 0.1 * (x-4) * np.cos(x) + 0.5*x + noise"
      ],
      "metadata": {
        "id": "bNdQCyuH1oLM"
      },
      "execution_count": null,
      "outputs": []
    },
    {
      "cell_type": "code",
      "source": [
        "fig, ax = plt.subplots(figsize=(8,4))\n",
        "plt.scatter(x, y)"
      ],
      "metadata": {
        "colab": {
          "base_uri": "https://localhost:8080/",
          "height": 302
        },
        "id": "7bQDCk4Rwr6I",
        "outputId": "2ce6d511-4bbd-4276-cf77-7e8a79bd16be"
      },
      "execution_count": null,
      "outputs": [
        {
          "output_type": "execute_result",
          "data": {
            "text/plain": [
              "<matplotlib.collections.PathCollection at 0x7f001582eb10>"
            ]
          },
          "metadata": {},
          "execution_count": 41
        },
        {
          "output_type": "display_data",
          "data": {
            "image/png": "[encoded data removed]",
            "text/plain": [
              "<Figure size 576x288 with 1 Axes>"
            ]
          },
          "metadata": {
            "needs_background": "light"
          }
        }
      ]
    },
    {
      "cell_type": "markdown",
      "source": [
        ""
      ],
      "metadata": {
        "id": "61XPX27P30Ey"
      }
    },
    {
      "cell_type": "code",
      "source": [
        ""
      ],
      "metadata": {
        "id": "nHM76_JY30RR"
      },
      "execution_count": null,
      "outputs": []
    }
  ]
}